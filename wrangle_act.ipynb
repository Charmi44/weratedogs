{
 "cells": [
  {
   "cell_type": "code",
   "execution_count": 27,
   "metadata": {
    "collapsed": false
   },
   "outputs": [],
   "source": [
    "import pandas as pd\n",
    "import numpy as np\n",
    "import requests\n",
    "import os\n",
    "import tweepy\n",
    "import json"
   ]
  },
  {
   "cell_type": "markdown",
   "metadata": {},
   "source": [
    "# Gathering\n",
    "\n",
    "Sources:\n",
    "\n",
    "* CSV\n",
    "* programmatic download from website\n",
    "* Twitter API's JSON data\n",
    "\n",
    "Resolved a [tweepy installation issue](https://stackoverflow.com/questions/38739694/install-python-package-package-missing-in-current-win-64-channels)."
   ]
  },
  {
   "cell_type": "code",
   "execution_count": 28,
   "metadata": {
    "collapsed": false
   },
   "outputs": [
    {
     "data": {
      "text/html": [
       "<div>\n",
       "<table border=\"1\" class=\"dataframe\">\n",
       "  <thead>\n",
       "    <tr style=\"text-align: right;\">\n",
       "      <th></th>\n",
       "      <th>tweet_id</th>\n",
       "      <th>in_reply_to_status_id</th>\n",
       "      <th>in_reply_to_user_id</th>\n",
       "      <th>timestamp</th>\n",
       "      <th>source</th>\n",
       "      <th>text</th>\n",
       "      <th>retweeted_status_id</th>\n",
       "      <th>retweeted_status_user_id</th>\n",
       "      <th>retweeted_status_timestamp</th>\n",
       "      <th>expanded_urls</th>\n",
       "      <th>rating_numerator</th>\n",
       "      <th>rating_denominator</th>\n",
       "      <th>name</th>\n",
       "      <th>doggo</th>\n",
       "      <th>floofer</th>\n",
       "      <th>pupper</th>\n",
       "      <th>puppo</th>\n",
       "    </tr>\n",
       "  </thead>\n",
       "  <tbody>\n",
       "    <tr>\n",
       "      <th>272</th>\n",
       "      <td>840761248237133825</td>\n",
       "      <td>NaN</td>\n",
       "      <td>NaN</td>\n",
       "      <td>2017-03-12 03:07:56 +0000</td>\n",
       "      <td>&lt;a href=\"http://twitter.com/download/iphone\" r...</td>\n",
       "      <td>RT @dog_rates: Say hello to Maddie and Gunner....</td>\n",
       "      <td>8.406323e+17</td>\n",
       "      <td>4.196984e+09</td>\n",
       "      <td>2017-03-11 18:35:42 +0000</td>\n",
       "      <td>https://www.gofundme.com/3hgsuu0,https://twitt...</td>\n",
       "      <td>12</td>\n",
       "      <td>10</td>\n",
       "      <td>Maddie</td>\n",
       "      <td>None</td>\n",
       "      <td>None</td>\n",
       "      <td>None</td>\n",
       "      <td>None</td>\n",
       "    </tr>\n",
       "    <tr>\n",
       "      <th>951</th>\n",
       "      <td>751950017322246144</td>\n",
       "      <td>NaN</td>\n",
       "      <td>NaN</td>\n",
       "      <td>2016-07-10 01:23:49 +0000</td>\n",
       "      <td>&lt;a href=\"http://vine.co\" rel=\"nofollow\"&gt;Vine -...</td>\n",
       "      <td>This is Lola. She's a surfing pupper. 13/10 ma...</td>\n",
       "      <td>NaN</td>\n",
       "      <td>NaN</td>\n",
       "      <td>NaN</td>\n",
       "      <td>https://vine.co/v/5WrjaYAMvMO</td>\n",
       "      <td>13</td>\n",
       "      <td>10</td>\n",
       "      <td>Lola</td>\n",
       "      <td>None</td>\n",
       "      <td>None</td>\n",
       "      <td>pupper</td>\n",
       "      <td>None</td>\n",
       "    </tr>\n",
       "    <tr>\n",
       "      <th>2346</th>\n",
       "      <td>666058600524156928</td>\n",
       "      <td>NaN</td>\n",
       "      <td>NaN</td>\n",
       "      <td>2015-11-16 01:01:59 +0000</td>\n",
       "      <td>&lt;a href=\"http://twitter.com/download/iphone\" r...</td>\n",
       "      <td>Here is the Rand Paul of retrievers folks! He'...</td>\n",
       "      <td>NaN</td>\n",
       "      <td>NaN</td>\n",
       "      <td>NaN</td>\n",
       "      <td>https://twitter.com/dog_rates/status/666058600...</td>\n",
       "      <td>8</td>\n",
       "      <td>10</td>\n",
       "      <td>the</td>\n",
       "      <td>None</td>\n",
       "      <td>None</td>\n",
       "      <td>None</td>\n",
       "      <td>None</td>\n",
       "    </tr>\n",
       "  </tbody>\n",
       "</table>\n",
       "</div>"
      ],
      "text/plain": [
       "                tweet_id  in_reply_to_status_id  in_reply_to_user_id  \\\n",
       "272   840761248237133825                    NaN                  NaN   \n",
       "951   751950017322246144                    NaN                  NaN   \n",
       "2346  666058600524156928                    NaN                  NaN   \n",
       "\n",
       "                      timestamp  \\\n",
       "272   2017-03-12 03:07:56 +0000   \n",
       "951   2016-07-10 01:23:49 +0000   \n",
       "2346  2015-11-16 01:01:59 +0000   \n",
       "\n",
       "                                                 source  \\\n",
       "272   <a href=\"http://twitter.com/download/iphone\" r...   \n",
       "951   <a href=\"http://vine.co\" rel=\"nofollow\">Vine -...   \n",
       "2346  <a href=\"http://twitter.com/download/iphone\" r...   \n",
       "\n",
       "                                                   text  retweeted_status_id  \\\n",
       "272   RT @dog_rates: Say hello to Maddie and Gunner....         8.406323e+17   \n",
       "951   This is Lola. She's a surfing pupper. 13/10 ma...                  NaN   \n",
       "2346  Here is the Rand Paul of retrievers folks! He'...                  NaN   \n",
       "\n",
       "      retweeted_status_user_id retweeted_status_timestamp  \\\n",
       "272               4.196984e+09  2017-03-11 18:35:42 +0000   \n",
       "951                        NaN                        NaN   \n",
       "2346                       NaN                        NaN   \n",
       "\n",
       "                                          expanded_urls  rating_numerator  \\\n",
       "272   https://www.gofundme.com/3hgsuu0,https://twitt...                12   \n",
       "951                       https://vine.co/v/5WrjaYAMvMO                13   \n",
       "2346  https://twitter.com/dog_rates/status/666058600...                 8   \n",
       "\n",
       "      rating_denominator    name doggo floofer  pupper puppo  \n",
       "272                   10  Maddie  None    None    None  None  \n",
       "951                   10    Lola  None    None  pupper  None  \n",
       "2346                  10     the  None    None    None  None  "
      ]
     },
     "execution_count": 28,
     "metadata": {},
     "output_type": "execute_result"
    }
   ],
   "source": [
    "archive_df = pd.read_csv('twitter-archive-enhanced.csv')\n",
    "archive_df.sample(3)"
   ]
  },
  {
   "cell_type": "code",
   "execution_count": 29,
   "metadata": {
    "collapsed": false
   },
   "outputs": [
    {
     "data": {
      "text/html": [
       "<div>\n",
       "<table border=\"1\" class=\"dataframe\">\n",
       "  <thead>\n",
       "    <tr style=\"text-align: right;\">\n",
       "      <th></th>\n",
       "      <th>tweet_id</th>\n",
       "      <th>jpg_url</th>\n",
       "      <th>img_num</th>\n",
       "      <th>p1</th>\n",
       "      <th>p1_conf</th>\n",
       "      <th>p1_dog</th>\n",
       "      <th>p2</th>\n",
       "      <th>p2_conf</th>\n",
       "      <th>p2_dog</th>\n",
       "      <th>p3</th>\n",
       "      <th>p3_conf</th>\n",
       "      <th>p3_dog</th>\n",
       "    </tr>\n",
       "  </thead>\n",
       "  <tbody>\n",
       "    <tr>\n",
       "      <th>256</th>\n",
       "      <td>670764103623966721</td>\n",
       "      <td>https://pbs.twimg.com/media/CU8IY0pWIAA2AJ-.jpg</td>\n",
       "      <td>1</td>\n",
       "      <td>Norfolk_terrier</td>\n",
       "      <td>0.172850</td>\n",
       "      <td>True</td>\n",
       "      <td>golden_retriever</td>\n",
       "      <td>0.072702</td>\n",
       "      <td>True</td>\n",
       "      <td>television</td>\n",
       "      <td>0.037494</td>\n",
       "      <td>False</td>\n",
       "    </tr>\n",
       "    <tr>\n",
       "      <th>1433</th>\n",
       "      <td>773547596996571136</td>\n",
       "      <td>https://pbs.twimg.com/media/Crwxb5yWgAAX5P_.jpg</td>\n",
       "      <td>1</td>\n",
       "      <td>Norwegian_elkhound</td>\n",
       "      <td>0.372202</td>\n",
       "      <td>True</td>\n",
       "      <td>Chesapeake_Bay_retriever</td>\n",
       "      <td>0.137187</td>\n",
       "      <td>True</td>\n",
       "      <td>malamute</td>\n",
       "      <td>0.071436</td>\n",
       "      <td>True</td>\n",
       "    </tr>\n",
       "    <tr>\n",
       "      <th>143</th>\n",
       "      <td>668620235289837568</td>\n",
       "      <td>https://pbs.twimg.com/media/CUdqjvAWUAANfoU.jpg</td>\n",
       "      <td>1</td>\n",
       "      <td>crash_helmet</td>\n",
       "      <td>0.757942</td>\n",
       "      <td>False</td>\n",
       "      <td>toaster</td>\n",
       "      <td>0.037497</td>\n",
       "      <td>False</td>\n",
       "      <td>mouse</td>\n",
       "      <td>0.027271</td>\n",
       "      <td>False</td>\n",
       "    </tr>\n",
       "    <tr>\n",
       "      <th>1768</th>\n",
       "      <td>827199976799354881</td>\n",
       "      <td>https://pbs.twimg.com/media/C3rN-lcWEAA9CmR.jpg</td>\n",
       "      <td>4</td>\n",
       "      <td>Great_Dane</td>\n",
       "      <td>0.869681</td>\n",
       "      <td>True</td>\n",
       "      <td>American_Staffordshire_terrier</td>\n",
       "      <td>0.026658</td>\n",
       "      <td>True</td>\n",
       "      <td>boxer</td>\n",
       "      <td>0.019866</td>\n",
       "      <td>True</td>\n",
       "    </tr>\n",
       "    <tr>\n",
       "      <th>789</th>\n",
       "      <td>690597161306841088</td>\n",
       "      <td>https://pbs.twimg.com/media/CZV-c9NVIAEWtiU.jpg</td>\n",
       "      <td>1</td>\n",
       "      <td>Lhasa</td>\n",
       "      <td>0.097500</td>\n",
       "      <td>True</td>\n",
       "      <td>koala</td>\n",
       "      <td>0.091934</td>\n",
       "      <td>False</td>\n",
       "      <td>sunglasses</td>\n",
       "      <td>0.091505</td>\n",
       "      <td>False</td>\n",
       "    </tr>\n",
       "  </tbody>\n",
       "</table>\n",
       "</div>"
      ],
      "text/plain": [
       "                tweet_id                                          jpg_url  \\\n",
       "256   670764103623966721  https://pbs.twimg.com/media/CU8IY0pWIAA2AJ-.jpg   \n",
       "1433  773547596996571136  https://pbs.twimg.com/media/Crwxb5yWgAAX5P_.jpg   \n",
       "143   668620235289837568  https://pbs.twimg.com/media/CUdqjvAWUAANfoU.jpg   \n",
       "1768  827199976799354881  https://pbs.twimg.com/media/C3rN-lcWEAA9CmR.jpg   \n",
       "789   690597161306841088  https://pbs.twimg.com/media/CZV-c9NVIAEWtiU.jpg   \n",
       "\n",
       "      img_num                  p1   p1_conf p1_dog  \\\n",
       "256         1     Norfolk_terrier  0.172850   True   \n",
       "1433        1  Norwegian_elkhound  0.372202   True   \n",
       "143         1        crash_helmet  0.757942  False   \n",
       "1768        4          Great_Dane  0.869681   True   \n",
       "789         1               Lhasa  0.097500   True   \n",
       "\n",
       "                                  p2   p2_conf p2_dog          p3   p3_conf  \\\n",
       "256                 golden_retriever  0.072702   True  television  0.037494   \n",
       "1433        Chesapeake_Bay_retriever  0.137187   True    malamute  0.071436   \n",
       "143                          toaster  0.037497  False       mouse  0.027271   \n",
       "1768  American_Staffordshire_terrier  0.026658   True       boxer  0.019866   \n",
       "789                            koala  0.091934  False  sunglasses  0.091505   \n",
       "\n",
       "     p3_dog  \n",
       "256   False  \n",
       "1433   True  \n",
       "143   False  \n",
       "1768   True  \n",
       "789   False  "
      ]
     },
     "execution_count": 29,
     "metadata": {},
     "output_type": "execute_result"
    }
   ],
   "source": [
    "url = 'https://d17h27t6h515a5.cloudfront.net/topher/2017/August/599fd2ad_image-predictions/image-predictions.tsv'\n",
    "response = requests.get(url)\n",
    "\n",
    "folder = 'image-predictions'\n",
    "if not os.path.exists(folder):\n",
    "    os.makedirs(folder)\n",
    "    \n",
    "with open(os.path.join(folder, url.split('/')[-1]), mode='wb') as file:\n",
    "    file.write(response.content)\n",
    "    \n",
    "os.listdir(folder)\n",
    "\n",
    "img_predictions_df = pd.read_csv(folder + '/image-predictions.tsv', sep='\\t')\n",
    "img_predictions_df.sample(5)"
   ]
  },
  {
   "cell_type": "markdown",
   "metadata": {},
   "source": [
    "**Hide these keys before publishing or sharing notebook.**"
   ]
  },
  {
   "cell_type": "code",
   "execution_count": 8,
   "metadata": {
    "collapsed": true
   },
   "outputs": [],
   "source": [
    "key = \"XXXX\"\n",
    "key_secret = \"XXXX\"\n",
    "token = \"XXXX\"\n",
    "token_secret = \"XXXX\"\n",
    "\n",
    "auth = tweepy.OAuthHandler(key, key_secret)\n",
    "auth.set_access_token(token, token_secret)\n",
    "\n",
    "api = tweepy.API(auth)"
   ]
  },
  {
   "cell_type": "markdown",
   "metadata": {},
   "source": [
    "I could skip over grabbing all the JSON data for each tweet and grab the `retweet_count` and `favorite_count` directly from the [status response](https://stackoverflow.com/questions/27900451/convert-tweepy-status-object-into-json#27901076). However, this project requires that I demonstrate how to [write JSON data to a file](http://stackabuse.com/reading-and-writing-json-to-a-file-in-python/), then load it into a pandas dataframe."
   ]
  },
  {
   "cell_type": "code",
   "execution_count": 9,
   "metadata": {
    "collapsed": false
   },
   "outputs": [
    {
     "name": "stdout",
     "output_type": "stream",
     "text": [
      "Error for: 888202515573088257\n",
      "Error for: 869988702071779329\n",
      "Error for: 861769973181624320\n",
      "Error for: 802247111496568832\n",
      "Error for: 775096608509886464\n",
      "Rate limit reached. Sleeping for: 636\n",
      "Rate limit reached. Sleeping for: 635\n"
     ]
    }
   ],
   "source": [
    "tweet_ids = list(archive_df.tweet_id)\n",
    "\n",
    "tweet_data = {}\n",
    "for tweet in tweet_ids:\n",
    "    try:\n",
    "        tweet_status = api.get_status(tweet, wait_on_rate_limit=True, wait_on_rate_limit_notify=True)\n",
    "        tweet_data[str(tweet)] = tweet_status._json\n",
    "        #print(tweet_ids.index(tweet) + 1, \"/\", \"2354\")\n",
    "    except:\n",
    "        print(\"Error for: \" + str(tweet))\n",
    "        #print(tweet_ids.index(tweet) + 1, \"/\", \"2354\")"
   ]
  },
  {
   "cell_type": "code",
   "execution_count": 10,
   "metadata": {
    "collapsed": false
   },
   "outputs": [],
   "source": [
    "with open('tweet_json.txt', 'w') as file:\n",
    "    json.dump(tweet_data, file)"
   ]
  },
  {
   "cell_type": "code",
   "execution_count": 30,
   "metadata": {
    "collapsed": false
   },
   "outputs": [
    {
     "data": {
      "text/html": [
       "<div>\n",
       "<table border=\"1\" class=\"dataframe\">\n",
       "  <thead>\n",
       "    <tr style=\"text-align: right;\">\n",
       "      <th></th>\n",
       "      <th>tweet_id</th>\n",
       "      <th>retweets</th>\n",
       "      <th>favorites</th>\n",
       "    </tr>\n",
       "  </thead>\n",
       "  <tbody>\n",
       "    <tr>\n",
       "      <th>809</th>\n",
       "      <td>771014301343748096</td>\n",
       "      <td>1764</td>\n",
       "      <td>6981</td>\n",
       "    </tr>\n",
       "    <tr>\n",
       "      <th>1154</th>\n",
       "      <td>724046343203856385</td>\n",
       "      <td>615</td>\n",
       "      <td>2885</td>\n",
       "    </tr>\n",
       "    <tr>\n",
       "      <th>435</th>\n",
       "      <td>820013781606658049</td>\n",
       "      <td>1357</td>\n",
       "      <td>0</td>\n",
       "    </tr>\n",
       "    <tr>\n",
       "      <th>751</th>\n",
       "      <td>778748913645780993</td>\n",
       "      <td>1545</td>\n",
       "      <td>7668</td>\n",
       "    </tr>\n",
       "    <tr>\n",
       "      <th>386</th>\n",
       "      <td>826476773533745153</td>\n",
       "      <td>4788</td>\n",
       "      <td>20173</td>\n",
       "    </tr>\n",
       "  </tbody>\n",
       "</table>\n",
       "</div>"
      ],
      "text/plain": [
       "                tweet_id  retweets  favorites\n",
       "809   771014301343748096      1764       6981\n",
       "1154  724046343203856385       615       2885\n",
       "435   820013781606658049      1357          0\n",
       "751   778748913645780993      1545       7668\n",
       "386   826476773533745153      4788      20173"
      ]
     },
     "execution_count": 30,
     "metadata": {},
     "output_type": "execute_result"
    }
   ],
   "source": [
    "with open('tweet_json.txt') as file:\n",
    "    data = json.load(file)\n",
    "    \n",
    "df_list = []\n",
    "\n",
    "for tweet_id in data.keys():\n",
    "    retweets = data[tweet_id]['retweet_count']\n",
    "    favorites = data[tweet_id]['favorite_count']# + data[tweet_id]['favourites_count']\n",
    "    df_list.append({'tweet_id': tweet_id,\n",
    "                        'retweets': retweets,\n",
    "                        'favorites': favorites})\n",
    "    \n",
    "tweets_df = pd.DataFrame(df_list, columns = ['tweet_id', 'retweets', 'favorites'])\n",
    "tweets_df.sample(5)"
   ]
  },
  {
   "cell_type": "markdown",
   "metadata": {},
   "source": [
    "Why did `favourites_count` fail? Is `favourites_count` in every tweet's data?"
   ]
  },
  {
   "cell_type": "markdown",
   "metadata": {
    "collapsed": true
   },
   "source": [
    "# Assessment\n",
    "\n",
    "Three dataframes:\n",
    " * `tweets_df` which has retweet and favorite counts\n",
    " * `img_predictions_df` has the results of a neural network trying to identify dog breed in a tweet's picture\n",
    " * `archve_df` has the tweet's text, rating, and dog category"
   ]
  },
  {
   "cell_type": "code",
   "execution_count": 31,
   "metadata": {
    "collapsed": false
   },
   "outputs": [
    {
     "name": "stdout",
     "output_type": "stream",
     "text": [
      "<class 'pandas.core.frame.DataFrame'>\n",
      "RangeIndex: 2351 entries, 0 to 2350\n",
      "Data columns (total 3 columns):\n",
      "tweet_id     2351 non-null object\n",
      "retweets     2351 non-null int64\n",
      "favorites    2351 non-null int64\n",
      "dtypes: int64(2), object(1)\n",
      "memory usage: 55.2+ KB\n"
     ]
    }
   ],
   "source": [
    "tweets_df.info()"
   ]
  },
  {
   "cell_type": "code",
   "execution_count": 32,
   "metadata": {
    "collapsed": false
   },
   "outputs": [
    {
     "name": "stdout",
     "output_type": "stream",
     "text": [
      "<class 'pandas.core.frame.DataFrame'>\n",
      "RangeIndex: 2075 entries, 0 to 2074\n",
      "Data columns (total 12 columns):\n",
      "tweet_id    2075 non-null int64\n",
      "jpg_url     2075 non-null object\n",
      "img_num     2075 non-null int64\n",
      "p1          2075 non-null object\n",
      "p1_conf     2075 non-null float64\n",
      "p1_dog      2075 non-null bool\n",
      "p2          2075 non-null object\n",
      "p2_conf     2075 non-null float64\n",
      "p2_dog      2075 non-null bool\n",
      "p3          2075 non-null object\n",
      "p3_conf     2075 non-null float64\n",
      "p3_dog      2075 non-null bool\n",
      "dtypes: bool(3), float64(3), int64(2), object(4)\n",
      "memory usage: 152.1+ KB\n"
     ]
    }
   ],
   "source": [
    "img_predictions_df.info()"
   ]
  },
  {
   "cell_type": "code",
   "execution_count": 33,
   "metadata": {
    "collapsed": false
   },
   "outputs": [
    {
     "name": "stdout",
     "output_type": "stream",
     "text": [
      "<class 'pandas.core.frame.DataFrame'>\n",
      "RangeIndex: 2356 entries, 0 to 2355\n",
      "Data columns (total 17 columns):\n",
      "tweet_id                      2356 non-null int64\n",
      "in_reply_to_status_id         78 non-null float64\n",
      "in_reply_to_user_id           78 non-null float64\n",
      "timestamp                     2356 non-null object\n",
      "source                        2356 non-null object\n",
      "text                          2356 non-null object\n",
      "retweeted_status_id           181 non-null float64\n",
      "retweeted_status_user_id      181 non-null float64\n",
      "retweeted_status_timestamp    181 non-null object\n",
      "expanded_urls                 2297 non-null object\n",
      "rating_numerator              2356 non-null int64\n",
      "rating_denominator            2356 non-null int64\n",
      "name                          2356 non-null object\n",
      "doggo                         2356 non-null object\n",
      "floofer                       2356 non-null object\n",
      "pupper                        2356 non-null object\n",
      "puppo                         2356 non-null object\n",
      "dtypes: float64(4), int64(3), object(10)\n",
      "memory usage: 313.0+ KB\n"
     ]
    }
   ],
   "source": [
    "archive_df.info()"
   ]
  },
  {
   "cell_type": "code",
   "execution_count": 34,
   "metadata": {
    "collapsed": false,
    "scrolled": true
   },
   "outputs": [
    {
     "data": {
      "text/html": [
       "<div>\n",
       "<table border=\"1\" class=\"dataframe\">\n",
       "  <thead>\n",
       "    <tr style=\"text-align: right;\">\n",
       "      <th></th>\n",
       "      <th>tweet_id</th>\n",
       "      <th>img_num</th>\n",
       "      <th>p1_conf</th>\n",
       "      <th>p2_conf</th>\n",
       "      <th>p3_conf</th>\n",
       "    </tr>\n",
       "  </thead>\n",
       "  <tbody>\n",
       "    <tr>\n",
       "      <th>count</th>\n",
       "      <td>2.075000e+03</td>\n",
       "      <td>2075.000000</td>\n",
       "      <td>2075.000000</td>\n",
       "      <td>2.075000e+03</td>\n",
       "      <td>2.075000e+03</td>\n",
       "    </tr>\n",
       "    <tr>\n",
       "      <th>mean</th>\n",
       "      <td>7.384514e+17</td>\n",
       "      <td>1.203855</td>\n",
       "      <td>0.594548</td>\n",
       "      <td>1.345886e-01</td>\n",
       "      <td>6.032417e-02</td>\n",
       "    </tr>\n",
       "    <tr>\n",
       "      <th>std</th>\n",
       "      <td>6.785203e+16</td>\n",
       "      <td>0.561875</td>\n",
       "      <td>0.271174</td>\n",
       "      <td>1.006657e-01</td>\n",
       "      <td>5.090593e-02</td>\n",
       "    </tr>\n",
       "    <tr>\n",
       "      <th>min</th>\n",
       "      <td>6.660209e+17</td>\n",
       "      <td>1.000000</td>\n",
       "      <td>0.044333</td>\n",
       "      <td>1.011300e-08</td>\n",
       "      <td>1.740170e-10</td>\n",
       "    </tr>\n",
       "    <tr>\n",
       "      <th>25%</th>\n",
       "      <td>6.764835e+17</td>\n",
       "      <td>1.000000</td>\n",
       "      <td>0.364412</td>\n",
       "      <td>5.388625e-02</td>\n",
       "      <td>1.622240e-02</td>\n",
       "    </tr>\n",
       "    <tr>\n",
       "      <th>50%</th>\n",
       "      <td>7.119988e+17</td>\n",
       "      <td>1.000000</td>\n",
       "      <td>0.588230</td>\n",
       "      <td>1.181810e-01</td>\n",
       "      <td>4.944380e-02</td>\n",
       "    </tr>\n",
       "    <tr>\n",
       "      <th>75%</th>\n",
       "      <td>7.932034e+17</td>\n",
       "      <td>1.000000</td>\n",
       "      <td>0.843855</td>\n",
       "      <td>1.955655e-01</td>\n",
       "      <td>9.180755e-02</td>\n",
       "    </tr>\n",
       "    <tr>\n",
       "      <th>max</th>\n",
       "      <td>8.924206e+17</td>\n",
       "      <td>4.000000</td>\n",
       "      <td>1.000000</td>\n",
       "      <td>4.880140e-01</td>\n",
       "      <td>2.734190e-01</td>\n",
       "    </tr>\n",
       "  </tbody>\n",
       "</table>\n",
       "</div>"
      ],
      "text/plain": [
       "           tweet_id      img_num      p1_conf       p2_conf       p3_conf\n",
       "count  2.075000e+03  2075.000000  2075.000000  2.075000e+03  2.075000e+03\n",
       "mean   7.384514e+17     1.203855     0.594548  1.345886e-01  6.032417e-02\n",
       "std    6.785203e+16     0.561875     0.271174  1.006657e-01  5.090593e-02\n",
       "min    6.660209e+17     1.000000     0.044333  1.011300e-08  1.740170e-10\n",
       "25%    6.764835e+17     1.000000     0.364412  5.388625e-02  1.622240e-02\n",
       "50%    7.119988e+17     1.000000     0.588230  1.181810e-01  4.944380e-02\n",
       "75%    7.932034e+17     1.000000     0.843855  1.955655e-01  9.180755e-02\n",
       "max    8.924206e+17     4.000000     1.000000  4.880140e-01  2.734190e-01"
      ]
     },
     "execution_count": 34,
     "metadata": {},
     "output_type": "execute_result"
    }
   ],
   "source": [
    "img_predictions_df.describe()"
   ]
  },
  {
   "cell_type": "code",
   "execution_count": 35,
   "metadata": {
    "collapsed": false,
    "scrolled": true
   },
   "outputs": [
    {
     "data": {
      "text/html": [
       "<div>\n",
       "<table border=\"1\" class=\"dataframe\">\n",
       "  <thead>\n",
       "    <tr style=\"text-align: right;\">\n",
       "      <th></th>\n",
       "      <th>tweet_id</th>\n",
       "      <th>in_reply_to_status_id</th>\n",
       "      <th>in_reply_to_user_id</th>\n",
       "      <th>retweeted_status_id</th>\n",
       "      <th>retweeted_status_user_id</th>\n",
       "      <th>rating_numerator</th>\n",
       "      <th>rating_denominator</th>\n",
       "    </tr>\n",
       "  </thead>\n",
       "  <tbody>\n",
       "    <tr>\n",
       "      <th>count</th>\n",
       "      <td>2.356000e+03</td>\n",
       "      <td>7.800000e+01</td>\n",
       "      <td>7.800000e+01</td>\n",
       "      <td>1.810000e+02</td>\n",
       "      <td>1.810000e+02</td>\n",
       "      <td>2356.000000</td>\n",
       "      <td>2356.000000</td>\n",
       "    </tr>\n",
       "    <tr>\n",
       "      <th>mean</th>\n",
       "      <td>7.427716e+17</td>\n",
       "      <td>7.455079e+17</td>\n",
       "      <td>2.014171e+16</td>\n",
       "      <td>7.720400e+17</td>\n",
       "      <td>1.241698e+16</td>\n",
       "      <td>13.126486</td>\n",
       "      <td>10.455433</td>\n",
       "    </tr>\n",
       "    <tr>\n",
       "      <th>std</th>\n",
       "      <td>6.856705e+16</td>\n",
       "      <td>7.582492e+16</td>\n",
       "      <td>1.252797e+17</td>\n",
       "      <td>6.236928e+16</td>\n",
       "      <td>9.599254e+16</td>\n",
       "      <td>45.876648</td>\n",
       "      <td>6.745237</td>\n",
       "    </tr>\n",
       "    <tr>\n",
       "      <th>min</th>\n",
       "      <td>6.660209e+17</td>\n",
       "      <td>6.658147e+17</td>\n",
       "      <td>1.185634e+07</td>\n",
       "      <td>6.661041e+17</td>\n",
       "      <td>7.832140e+05</td>\n",
       "      <td>0.000000</td>\n",
       "      <td>0.000000</td>\n",
       "    </tr>\n",
       "    <tr>\n",
       "      <th>25%</th>\n",
       "      <td>6.783989e+17</td>\n",
       "      <td>6.757419e+17</td>\n",
       "      <td>3.086374e+08</td>\n",
       "      <td>7.186315e+17</td>\n",
       "      <td>4.196984e+09</td>\n",
       "      <td>10.000000</td>\n",
       "      <td>10.000000</td>\n",
       "    </tr>\n",
       "    <tr>\n",
       "      <th>50%</th>\n",
       "      <td>7.196279e+17</td>\n",
       "      <td>7.038708e+17</td>\n",
       "      <td>4.196984e+09</td>\n",
       "      <td>7.804657e+17</td>\n",
       "      <td>4.196984e+09</td>\n",
       "      <td>11.000000</td>\n",
       "      <td>10.000000</td>\n",
       "    </tr>\n",
       "    <tr>\n",
       "      <th>75%</th>\n",
       "      <td>7.993373e+17</td>\n",
       "      <td>8.257804e+17</td>\n",
       "      <td>4.196984e+09</td>\n",
       "      <td>8.203146e+17</td>\n",
       "      <td>4.196984e+09</td>\n",
       "      <td>12.000000</td>\n",
       "      <td>10.000000</td>\n",
       "    </tr>\n",
       "    <tr>\n",
       "      <th>max</th>\n",
       "      <td>8.924206e+17</td>\n",
       "      <td>8.862664e+17</td>\n",
       "      <td>8.405479e+17</td>\n",
       "      <td>8.874740e+17</td>\n",
       "      <td>7.874618e+17</td>\n",
       "      <td>1776.000000</td>\n",
       "      <td>170.000000</td>\n",
       "    </tr>\n",
       "  </tbody>\n",
       "</table>\n",
       "</div>"
      ],
      "text/plain": [
       "           tweet_id  in_reply_to_status_id  in_reply_to_user_id  \\\n",
       "count  2.356000e+03           7.800000e+01         7.800000e+01   \n",
       "mean   7.427716e+17           7.455079e+17         2.014171e+16   \n",
       "std    6.856705e+16           7.582492e+16         1.252797e+17   \n",
       "min    6.660209e+17           6.658147e+17         1.185634e+07   \n",
       "25%    6.783989e+17           6.757419e+17         3.086374e+08   \n",
       "50%    7.196279e+17           7.038708e+17         4.196984e+09   \n",
       "75%    7.993373e+17           8.257804e+17         4.196984e+09   \n",
       "max    8.924206e+17           8.862664e+17         8.405479e+17   \n",
       "\n",
       "       retweeted_status_id  retweeted_status_user_id  rating_numerator  \\\n",
       "count         1.810000e+02              1.810000e+02       2356.000000   \n",
       "mean          7.720400e+17              1.241698e+16         13.126486   \n",
       "std           6.236928e+16              9.599254e+16         45.876648   \n",
       "min           6.661041e+17              7.832140e+05          0.000000   \n",
       "25%           7.186315e+17              4.196984e+09         10.000000   \n",
       "50%           7.804657e+17              4.196984e+09         11.000000   \n",
       "75%           8.203146e+17              4.196984e+09         12.000000   \n",
       "max           8.874740e+17              7.874618e+17       1776.000000   \n",
       "\n",
       "       rating_denominator  \n",
       "count         2356.000000  \n",
       "mean            10.455433  \n",
       "std              6.745237  \n",
       "min              0.000000  \n",
       "25%             10.000000  \n",
       "50%             10.000000  \n",
       "75%             10.000000  \n",
       "max            170.000000  "
      ]
     },
     "execution_count": 35,
     "metadata": {},
     "output_type": "execute_result"
    }
   ],
   "source": [
    "archive_df.describe()"
   ]
  },
  {
   "cell_type": "code",
   "execution_count": 36,
   "metadata": {
    "collapsed": false,
    "scrolled": true
   },
   "outputs": [
    {
     "data": {
      "text/html": [
       "<div>\n",
       "<table border=\"1\" class=\"dataframe\">\n",
       "  <thead>\n",
       "    <tr style=\"text-align: right;\">\n",
       "      <th></th>\n",
       "      <th>retweets</th>\n",
       "      <th>favorites</th>\n",
       "    </tr>\n",
       "  </thead>\n",
       "  <tbody>\n",
       "    <tr>\n",
       "      <th>count</th>\n",
       "      <td>2351.000000</td>\n",
       "      <td>2351.000000</td>\n",
       "    </tr>\n",
       "    <tr>\n",
       "      <th>mean</th>\n",
       "      <td>3128.737984</td>\n",
       "      <td>8108.334326</td>\n",
       "    </tr>\n",
       "    <tr>\n",
       "      <th>std</th>\n",
       "      <td>5234.399386</td>\n",
       "      <td>11983.819346</td>\n",
       "    </tr>\n",
       "    <tr>\n",
       "      <th>min</th>\n",
       "      <td>0.000000</td>\n",
       "      <td>0.000000</td>\n",
       "    </tr>\n",
       "    <tr>\n",
       "      <th>25%</th>\n",
       "      <td>617.000000</td>\n",
       "      <td>1417.500000</td>\n",
       "    </tr>\n",
       "    <tr>\n",
       "      <th>50%</th>\n",
       "      <td>1452.000000</td>\n",
       "      <td>3590.000000</td>\n",
       "    </tr>\n",
       "    <tr>\n",
       "      <th>75%</th>\n",
       "      <td>3620.000000</td>\n",
       "      <td>10111.000000</td>\n",
       "    </tr>\n",
       "    <tr>\n",
       "      <th>max</th>\n",
       "      <td>78955.000000</td>\n",
       "      <td>132094.000000</td>\n",
       "    </tr>\n",
       "  </tbody>\n",
       "</table>\n",
       "</div>"
      ],
      "text/plain": [
       "           retweets      favorites\n",
       "count   2351.000000    2351.000000\n",
       "mean    3128.737984    8108.334326\n",
       "std     5234.399386   11983.819346\n",
       "min        0.000000       0.000000\n",
       "25%      617.000000    1417.500000\n",
       "50%     1452.000000    3590.000000\n",
       "75%     3620.000000   10111.000000\n",
       "max    78955.000000  132094.000000"
      ]
     },
     "execution_count": 36,
     "metadata": {},
     "output_type": "execute_result"
    }
   ],
   "source": [
    "tweets_df.describe()"
   ]
  },
  {
   "cell_type": "code",
   "execution_count": 37,
   "metadata": {
    "collapsed": false
   },
   "outputs": [
    {
     "data": {
      "text/plain": [
       "3     tweet_id\n",
       "20    tweet_id\n",
       "dtype: object"
      ]
     },
     "execution_count": 37,
     "metadata": {},
     "output_type": "execute_result"
    }
   ],
   "source": [
    "all_columns = pd.Series(list(tweets_df) + list(archive_df) + list(img_predictions_df))\n",
    "all_columns[all_columns.duplicated()]"
   ]
  },
  {
   "cell_type": "code",
   "execution_count": 38,
   "metadata": {
    "collapsed": false
   },
   "outputs": [
    {
     "data": {
      "text/plain": [
       "None       745\n",
       "a           55\n",
       "Charlie     12\n",
       "Cooper      11\n",
       "Oliver      11\n",
       "Name: name, dtype: int64"
      ]
     },
     "execution_count": 38,
     "metadata": {},
     "output_type": "execute_result"
    }
   ],
   "source": [
    "archive_df.name.value_counts().head(5)"
   ]
  },
  {
   "cell_type": "code",
   "execution_count": 39,
   "metadata": {
    "collapsed": false
   },
   "outputs": [
    {
     "data": {
      "text/html": [
       "<div>\n",
       "<table border=\"1\" class=\"dataframe\">\n",
       "  <thead>\n",
       "    <tr style=\"text-align: right;\">\n",
       "      <th></th>\n",
       "      <th>tweet_id</th>\n",
       "      <th>in_reply_to_status_id</th>\n",
       "      <th>in_reply_to_user_id</th>\n",
       "      <th>timestamp</th>\n",
       "      <th>source</th>\n",
       "      <th>text</th>\n",
       "      <th>retweeted_status_id</th>\n",
       "      <th>retweeted_status_user_id</th>\n",
       "      <th>retweeted_status_timestamp</th>\n",
       "      <th>expanded_urls</th>\n",
       "      <th>rating_numerator</th>\n",
       "      <th>rating_denominator</th>\n",
       "      <th>name</th>\n",
       "      <th>doggo</th>\n",
       "      <th>floofer</th>\n",
       "      <th>pupper</th>\n",
       "      <th>puppo</th>\n",
       "    </tr>\n",
       "  </thead>\n",
       "  <tbody>\n",
       "  </tbody>\n",
       "</table>\n",
       "</div>"
      ],
      "text/plain": [
       "Empty DataFrame\n",
       "Columns: [tweet_id, in_reply_to_status_id, in_reply_to_user_id, timestamp, source, text, retweeted_status_id, retweeted_status_user_id, retweeted_status_timestamp, expanded_urls, rating_numerator, rating_denominator, name, doggo, floofer, pupper, puppo]\n",
       "Index: []"
      ]
     },
     "execution_count": 39,
     "metadata": {},
     "output_type": "execute_result"
    }
   ],
   "source": [
    "archive_df[archive_df.tweet_id.duplicated()]"
   ]
  },
  {
   "cell_type": "code",
   "execution_count": 40,
   "metadata": {
    "collapsed": false
   },
   "outputs": [
    {
     "data": {
      "text/html": [
       "<div>\n",
       "<table border=\"1\" class=\"dataframe\">\n",
       "  <thead>\n",
       "    <tr style=\"text-align: right;\">\n",
       "      <th></th>\n",
       "      <th>tweet_id</th>\n",
       "      <th>in_reply_to_status_id</th>\n",
       "      <th>in_reply_to_user_id</th>\n",
       "      <th>timestamp</th>\n",
       "      <th>source</th>\n",
       "      <th>text</th>\n",
       "      <th>retweeted_status_id</th>\n",
       "      <th>retweeted_status_user_id</th>\n",
       "      <th>retweeted_status_timestamp</th>\n",
       "      <th>expanded_urls</th>\n",
       "      <th>rating_numerator</th>\n",
       "      <th>rating_denominator</th>\n",
       "      <th>name</th>\n",
       "      <th>doggo</th>\n",
       "      <th>floofer</th>\n",
       "      <th>pupper</th>\n",
       "      <th>puppo</th>\n",
       "    </tr>\n",
       "  </thead>\n",
       "  <tbody>\n",
       "    <tr>\n",
       "      <th>979</th>\n",
       "      <td>749981277374128128</td>\n",
       "      <td>NaN</td>\n",
       "      <td>NaN</td>\n",
       "      <td>2016-07-04 15:00:45 +0000</td>\n",
       "      <td>&lt;a href=\"https://about.twitter.com/products/tw...</td>\n",
       "      <td>This is Atticus. He's quite simply America af....</td>\n",
       "      <td>NaN</td>\n",
       "      <td>NaN</td>\n",
       "      <td>NaN</td>\n",
       "      <td>https://twitter.com/dog_rates/status/749981277...</td>\n",
       "      <td>1776</td>\n",
       "      <td>10</td>\n",
       "      <td>Atticus</td>\n",
       "      <td>None</td>\n",
       "      <td>None</td>\n",
       "      <td>None</td>\n",
       "      <td>None</td>\n",
       "    </tr>\n",
       "  </tbody>\n",
       "</table>\n",
       "</div>"
      ],
      "text/plain": [
       "               tweet_id  in_reply_to_status_id  in_reply_to_user_id  \\\n",
       "979  749981277374128128                    NaN                  NaN   \n",
       "\n",
       "                     timestamp  \\\n",
       "979  2016-07-04 15:00:45 +0000   \n",
       "\n",
       "                                                source  \\\n",
       "979  <a href=\"https://about.twitter.com/products/tw...   \n",
       "\n",
       "                                                  text  retweeted_status_id  \\\n",
       "979  This is Atticus. He's quite simply America af....                  NaN   \n",
       "\n",
       "     retweeted_status_user_id retweeted_status_timestamp  \\\n",
       "979                       NaN                        NaN   \n",
       "\n",
       "                                         expanded_urls  rating_numerator  \\\n",
       "979  https://twitter.com/dog_rates/status/749981277...              1776   \n",
       "\n",
       "     rating_denominator     name doggo floofer pupper puppo  \n",
       "979                  10  Atticus  None    None   None  None  "
      ]
     },
     "execution_count": 40,
     "metadata": {},
     "output_type": "execute_result"
    }
   ],
   "source": [
    "archive_df[archive_df.rating_numerator == 1776]"
   ]
  },
  {
   "cell_type": "markdown",
   "metadata": {},
   "source": [
    "## Issues\n",
    "\n",
    "Completeness\n",
    "\n",
    "* missing retweet and favorite data for 5 tweets (`tweets_df`)\n",
    "* missing img predictions for some tweets (`img_predictions_df`)\n",
    "\n",
    "Tidiness\n",
    "\n",
    "* `retweets` and `favorites` in their own table (`tweets_df`)\n",
    "* dog categories hide category variable (`archive_df`)\n",
    "* Duplicate tweets from multiple dog stages.\n",
    "\n",
    "Validity\n",
    "\n",
    "* `tweet_id` is int in `img_predictions_df` \n",
    "* `tweet_id` is int in `archive_df`\n",
    "* `timestamp` is str (`archive_df`)\n",
    "* dog categories are str (`archive_df`)\n",
    "* incorrect dog names (a, an, the, just, one, very, quite, not, actually, mad, space, infuriating, all, officially, 0, old, life, unacceptable, my, incredibly, by, his, such) (`archive_df`)\n",
    "\n",
    "Accuracy\n",
    "\n",
    "* None\n",
    "\n",
    "Consistency\n",
    "\n",
    "* meaningful but inconsistent numerators and denominators (`archive_df`)\n",
    "* Duplicate tweets from multiple dog stages.\n",
    "\n",
    "# Cleaning\n",
    "\n",
    "### Completeness\n",
    "\n",
    "The missing retweet and favorite data is unrecoverable. There is no status data available from the Twitter API. Not all tweets have an image.\n",
    "\n",
    "### Tidiness\n",
    "\n",
    "**Issue:** `retweets` and `favorites` in their own table (`tweets_df`)\n",
    "\n",
    "**Task:** Convert `tweet_id` in `archive_df` to string. Merge `tweets_df` and `archive_df` on tweet_id."
   ]
  },
  {
   "cell_type": "code",
   "execution_count": 41,
   "metadata": {
    "collapsed": true
   },
   "outputs": [],
   "source": [
    "archive_clean = archive_df.copy()\n",
    "tweets_clean = tweets_df.copy()\n",
    "img_pred_clean = img_predictions_df.copy()"
   ]
  },
  {
   "cell_type": "code",
   "execution_count": 42,
   "metadata": {
    "collapsed": false
   },
   "outputs": [],
   "source": [
    "archive_clean.tweet_id = archive_clean.tweet_id.astype(str)\n",
    "archive_clean = pd.merge(archive_clean, tweets_clean,\n",
    "                        how = 'left', on = 'tweet_id')"
   ]
  },
  {
   "cell_type": "markdown",
   "metadata": {},
   "source": [
    "**Test**"
   ]
  },
  {
   "cell_type": "code",
   "execution_count": 43,
   "metadata": {
    "collapsed": false
   },
   "outputs": [
    {
     "data": {
      "text/html": [
       "<div>\n",
       "<table border=\"1\" class=\"dataframe\">\n",
       "  <thead>\n",
       "    <tr style=\"text-align: right;\">\n",
       "      <th></th>\n",
       "      <th>tweet_id</th>\n",
       "      <th>in_reply_to_status_id</th>\n",
       "      <th>in_reply_to_user_id</th>\n",
       "      <th>timestamp</th>\n",
       "      <th>source</th>\n",
       "      <th>text</th>\n",
       "      <th>retweeted_status_id</th>\n",
       "      <th>retweeted_status_user_id</th>\n",
       "      <th>retweeted_status_timestamp</th>\n",
       "      <th>expanded_urls</th>\n",
       "      <th>rating_numerator</th>\n",
       "      <th>rating_denominator</th>\n",
       "      <th>name</th>\n",
       "      <th>doggo</th>\n",
       "      <th>floofer</th>\n",
       "      <th>pupper</th>\n",
       "      <th>puppo</th>\n",
       "      <th>retweets</th>\n",
       "      <th>favorites</th>\n",
       "    </tr>\n",
       "  </thead>\n",
       "  <tbody>\n",
       "    <tr>\n",
       "      <th>1221</th>\n",
       "      <td>714485234495041536</td>\n",
       "      <td>NaN</td>\n",
       "      <td>NaN</td>\n",
       "      <td>2016-03-28 16:12:09 +0000</td>\n",
       "      <td>&lt;a href=\"http://vine.co\" rel=\"nofollow\"&gt;Vine -...</td>\n",
       "      <td>This is Blitz. He screams. 10/10 (vid by @yeaa...</td>\n",
       "      <td>NaN</td>\n",
       "      <td>NaN</td>\n",
       "      <td>NaN</td>\n",
       "      <td>https://vine.co/v/iDrOvVqq0A6</td>\n",
       "      <td>10</td>\n",
       "      <td>10</td>\n",
       "      <td>Blitz</td>\n",
       "      <td>None</td>\n",
       "      <td>None</td>\n",
       "      <td>None</td>\n",
       "      <td>None</td>\n",
       "      <td>1298.0</td>\n",
       "      <td>2947.0</td>\n",
       "    </tr>\n",
       "    <tr>\n",
       "      <th>152</th>\n",
       "      <td>862722525377298433</td>\n",
       "      <td>NaN</td>\n",
       "      <td>NaN</td>\n",
       "      <td>2017-05-11 17:34:13 +0000</td>\n",
       "      <td>&lt;a href=\"http://twitter.com/download/iphone\" r...</td>\n",
       "      <td>This is Dave. He passed the h*ck out. It's bar...</td>\n",
       "      <td>NaN</td>\n",
       "      <td>NaN</td>\n",
       "      <td>NaN</td>\n",
       "      <td>https://twitter.com/dog_rates/status/862722525...</td>\n",
       "      <td>11</td>\n",
       "      <td>10</td>\n",
       "      <td>Dave</td>\n",
       "      <td>None</td>\n",
       "      <td>None</td>\n",
       "      <td>None</td>\n",
       "      <td>None</td>\n",
       "      <td>3773.0</td>\n",
       "      <td>17703.0</td>\n",
       "    </tr>\n",
       "    <tr>\n",
       "      <th>1691</th>\n",
       "      <td>681320187870711809</td>\n",
       "      <td>NaN</td>\n",
       "      <td>NaN</td>\n",
       "      <td>2015-12-28 03:46:05 +0000</td>\n",
       "      <td>&lt;a href=\"http://twitter.com/download/iphone\" r...</td>\n",
       "      <td>This is Glacier. He's a very happy pup. Loves ...</td>\n",
       "      <td>NaN</td>\n",
       "      <td>NaN</td>\n",
       "      <td>NaN</td>\n",
       "      <td>https://twitter.com/dog_rates/status/681320187...</td>\n",
       "      <td>11</td>\n",
       "      <td>10</td>\n",
       "      <td>Glacier</td>\n",
       "      <td>None</td>\n",
       "      <td>None</td>\n",
       "      <td>None</td>\n",
       "      <td>None</td>\n",
       "      <td>854.0</td>\n",
       "      <td>2900.0</td>\n",
       "    </tr>\n",
       "  </tbody>\n",
       "</table>\n",
       "</div>"
      ],
      "text/plain": [
       "                tweet_id  in_reply_to_status_id  in_reply_to_user_id  \\\n",
       "1221  714485234495041536                    NaN                  NaN   \n",
       "152   862722525377298433                    NaN                  NaN   \n",
       "1691  681320187870711809                    NaN                  NaN   \n",
       "\n",
       "                      timestamp  \\\n",
       "1221  2016-03-28 16:12:09 +0000   \n",
       "152   2017-05-11 17:34:13 +0000   \n",
       "1691  2015-12-28 03:46:05 +0000   \n",
       "\n",
       "                                                 source  \\\n",
       "1221  <a href=\"http://vine.co\" rel=\"nofollow\">Vine -...   \n",
       "152   <a href=\"http://twitter.com/download/iphone\" r...   \n",
       "1691  <a href=\"http://twitter.com/download/iphone\" r...   \n",
       "\n",
       "                                                   text  retweeted_status_id  \\\n",
       "1221  This is Blitz. He screams. 10/10 (vid by @yeaa...                  NaN   \n",
       "152   This is Dave. He passed the h*ck out. It's bar...                  NaN   \n",
       "1691  This is Glacier. He's a very happy pup. Loves ...                  NaN   \n",
       "\n",
       "      retweeted_status_user_id retweeted_status_timestamp  \\\n",
       "1221                       NaN                        NaN   \n",
       "152                        NaN                        NaN   \n",
       "1691                       NaN                        NaN   \n",
       "\n",
       "                                          expanded_urls  rating_numerator  \\\n",
       "1221                      https://vine.co/v/iDrOvVqq0A6                10   \n",
       "152   https://twitter.com/dog_rates/status/862722525...                11   \n",
       "1691  https://twitter.com/dog_rates/status/681320187...                11   \n",
       "\n",
       "      rating_denominator     name doggo floofer pupper puppo  retweets  \\\n",
       "1221                  10    Blitz  None    None   None  None    1298.0   \n",
       "152                   10     Dave  None    None   None  None    3773.0   \n",
       "1691                  10  Glacier  None    None   None  None     854.0   \n",
       "\n",
       "      favorites  \n",
       "1221     2947.0  \n",
       "152     17703.0  \n",
       "1691     2900.0  "
      ]
     },
     "execution_count": 43,
     "metadata": {},
     "output_type": "execute_result"
    }
   ],
   "source": [
    "archive_clean.sample(3)"
   ]
  },
  {
   "cell_type": "code",
   "execution_count": 44,
   "metadata": {
    "collapsed": false,
    "scrolled": true
   },
   "outputs": [
    {
     "data": {
      "text/html": [
       "<div>\n",
       "<table border=\"1\" class=\"dataframe\">\n",
       "  <thead>\n",
       "    <tr style=\"text-align: right;\">\n",
       "      <th></th>\n",
       "      <th>tweet_id</th>\n",
       "      <th>in_reply_to_status_id</th>\n",
       "      <th>in_reply_to_user_id</th>\n",
       "      <th>timestamp</th>\n",
       "      <th>source</th>\n",
       "      <th>text</th>\n",
       "      <th>retweeted_status_id</th>\n",
       "      <th>retweeted_status_user_id</th>\n",
       "      <th>retweeted_status_timestamp</th>\n",
       "      <th>expanded_urls</th>\n",
       "      <th>rating_numerator</th>\n",
       "      <th>rating_denominator</th>\n",
       "      <th>name</th>\n",
       "      <th>doggo</th>\n",
       "      <th>floofer</th>\n",
       "      <th>pupper</th>\n",
       "      <th>puppo</th>\n",
       "      <th>retweets</th>\n",
       "      <th>favorites</th>\n",
       "    </tr>\n",
       "  </thead>\n",
       "  <tbody>\n",
       "    <tr>\n",
       "      <th>19</th>\n",
       "      <td>888202515573088257</td>\n",
       "      <td>NaN</td>\n",
       "      <td>NaN</td>\n",
       "      <td>2017-07-21 01:02:36 +0000</td>\n",
       "      <td>&lt;a href=\"http://twitter.com/download/iphone\" r...</td>\n",
       "      <td>RT @dog_rates: This is Canela. She attempted s...</td>\n",
       "      <td>8.874740e+17</td>\n",
       "      <td>4.196984e+09</td>\n",
       "      <td>2017-07-19 00:47:34 +0000</td>\n",
       "      <td>https://twitter.com/dog_rates/status/887473957...</td>\n",
       "      <td>13</td>\n",
       "      <td>10</td>\n",
       "      <td>Canela</td>\n",
       "      <td>None</td>\n",
       "      <td>None</td>\n",
       "      <td>None</td>\n",
       "      <td>None</td>\n",
       "      <td>NaN</td>\n",
       "      <td>NaN</td>\n",
       "    </tr>\n",
       "    <tr>\n",
       "      <th>118</th>\n",
       "      <td>869988702071779329</td>\n",
       "      <td>NaN</td>\n",
       "      <td>NaN</td>\n",
       "      <td>2017-05-31 18:47:24 +0000</td>\n",
       "      <td>&lt;a href=\"http://twitter.com/download/iphone\" r...</td>\n",
       "      <td>RT @dog_rates: We only rate dogs. This is quit...</td>\n",
       "      <td>8.591970e+17</td>\n",
       "      <td>4.196984e+09</td>\n",
       "      <td>2017-05-02 00:04:57 +0000</td>\n",
       "      <td>https://twitter.com/dog_rates/status/859196978...</td>\n",
       "      <td>12</td>\n",
       "      <td>10</td>\n",
       "      <td>quite</td>\n",
       "      <td>None</td>\n",
       "      <td>None</td>\n",
       "      <td>None</td>\n",
       "      <td>None</td>\n",
       "      <td>NaN</td>\n",
       "      <td>NaN</td>\n",
       "    </tr>\n",
       "    <tr>\n",
       "      <th>155</th>\n",
       "      <td>861769973181624320</td>\n",
       "      <td>NaN</td>\n",
       "      <td>NaN</td>\n",
       "      <td>2017-05-09 02:29:07 +0000</td>\n",
       "      <td>&lt;a href=\"http://twitter.com/download/iphone\" r...</td>\n",
       "      <td>RT @dog_rates: \"Good afternoon class today we'...</td>\n",
       "      <td>8.066291e+17</td>\n",
       "      <td>4.196984e+09</td>\n",
       "      <td>2016-12-07 22:38:52 +0000</td>\n",
       "      <td>https://twitter.com/dog_rates/status/806629075...</td>\n",
       "      <td>13</td>\n",
       "      <td>10</td>\n",
       "      <td>None</td>\n",
       "      <td>None</td>\n",
       "      <td>None</td>\n",
       "      <td>None</td>\n",
       "      <td>None</td>\n",
       "      <td>NaN</td>\n",
       "      <td>NaN</td>\n",
       "    </tr>\n",
       "    <tr>\n",
       "      <th>566</th>\n",
       "      <td>802247111496568832</td>\n",
       "      <td>NaN</td>\n",
       "      <td>NaN</td>\n",
       "      <td>2016-11-25 20:26:31 +0000</td>\n",
       "      <td>&lt;a href=\"http://twitter.com/download/iphone\" r...</td>\n",
       "      <td>RT @dog_rates: Everybody drop what you're doin...</td>\n",
       "      <td>7.790561e+17</td>\n",
       "      <td>4.196984e+09</td>\n",
       "      <td>2016-09-22 20:33:42 +0000</td>\n",
       "      <td>https://twitter.com/dog_rates/status/779056095...</td>\n",
       "      <td>13</td>\n",
       "      <td>10</td>\n",
       "      <td>None</td>\n",
       "      <td>None</td>\n",
       "      <td>None</td>\n",
       "      <td>None</td>\n",
       "      <td>None</td>\n",
       "      <td>NaN</td>\n",
       "      <td>NaN</td>\n",
       "    </tr>\n",
       "    <tr>\n",
       "      <th>784</th>\n",
       "      <td>775096608509886464</td>\n",
       "      <td>NaN</td>\n",
       "      <td>NaN</td>\n",
       "      <td>2016-09-11 22:20:06 +0000</td>\n",
       "      <td>&lt;a href=\"http://twitter.com/download/iphone\" r...</td>\n",
       "      <td>RT @dog_rates: After so many requests, this is...</td>\n",
       "      <td>7.403732e+17</td>\n",
       "      <td>4.196984e+09</td>\n",
       "      <td>2016-06-08 02:41:38 +0000</td>\n",
       "      <td>https://twitter.com/dog_rates/status/740373189...</td>\n",
       "      <td>9</td>\n",
       "      <td>11</td>\n",
       "      <td>None</td>\n",
       "      <td>None</td>\n",
       "      <td>None</td>\n",
       "      <td>None</td>\n",
       "      <td>None</td>\n",
       "      <td>NaN</td>\n",
       "      <td>NaN</td>\n",
       "    </tr>\n",
       "  </tbody>\n",
       "</table>\n",
       "</div>"
      ],
      "text/plain": [
       "               tweet_id  in_reply_to_status_id  in_reply_to_user_id  \\\n",
       "19   888202515573088257                    NaN                  NaN   \n",
       "118  869988702071779329                    NaN                  NaN   \n",
       "155  861769973181624320                    NaN                  NaN   \n",
       "566  802247111496568832                    NaN                  NaN   \n",
       "784  775096608509886464                    NaN                  NaN   \n",
       "\n",
       "                     timestamp  \\\n",
       "19   2017-07-21 01:02:36 +0000   \n",
       "118  2017-05-31 18:47:24 +0000   \n",
       "155  2017-05-09 02:29:07 +0000   \n",
       "566  2016-11-25 20:26:31 +0000   \n",
       "784  2016-09-11 22:20:06 +0000   \n",
       "\n",
       "                                                source  \\\n",
       "19   <a href=\"http://twitter.com/download/iphone\" r...   \n",
       "118  <a href=\"http://twitter.com/download/iphone\" r...   \n",
       "155  <a href=\"http://twitter.com/download/iphone\" r...   \n",
       "566  <a href=\"http://twitter.com/download/iphone\" r...   \n",
       "784  <a href=\"http://twitter.com/download/iphone\" r...   \n",
       "\n",
       "                                                  text  retweeted_status_id  \\\n",
       "19   RT @dog_rates: This is Canela. She attempted s...         8.874740e+17   \n",
       "118  RT @dog_rates: We only rate dogs. This is quit...         8.591970e+17   \n",
       "155  RT @dog_rates: \"Good afternoon class today we'...         8.066291e+17   \n",
       "566  RT @dog_rates: Everybody drop what you're doin...         7.790561e+17   \n",
       "784  RT @dog_rates: After so many requests, this is...         7.403732e+17   \n",
       "\n",
       "     retweeted_status_user_id retweeted_status_timestamp  \\\n",
       "19               4.196984e+09  2017-07-19 00:47:34 +0000   \n",
       "118              4.196984e+09  2017-05-02 00:04:57 +0000   \n",
       "155              4.196984e+09  2016-12-07 22:38:52 +0000   \n",
       "566              4.196984e+09  2016-09-22 20:33:42 +0000   \n",
       "784              4.196984e+09  2016-06-08 02:41:38 +0000   \n",
       "\n",
       "                                         expanded_urls  rating_numerator  \\\n",
       "19   https://twitter.com/dog_rates/status/887473957...                13   \n",
       "118  https://twitter.com/dog_rates/status/859196978...                12   \n",
       "155  https://twitter.com/dog_rates/status/806629075...                13   \n",
       "566  https://twitter.com/dog_rates/status/779056095...                13   \n",
       "784  https://twitter.com/dog_rates/status/740373189...                 9   \n",
       "\n",
       "     rating_denominator    name doggo floofer pupper puppo  retweets  \\\n",
       "19                   10  Canela  None    None   None  None       NaN   \n",
       "118                  10   quite  None    None   None  None       NaN   \n",
       "155                  10    None  None    None   None  None       NaN   \n",
       "566                  10    None  None    None   None  None       NaN   \n",
       "784                  11    None  None    None   None  None       NaN   \n",
       "\n",
       "     favorites  \n",
       "19         NaN  \n",
       "118        NaN  \n",
       "155        NaN  \n",
       "566        NaN  \n",
       "784        NaN  "
      ]
     },
     "execution_count": 44,
     "metadata": {},
     "output_type": "execute_result"
    }
   ],
   "source": [
    "archive_clean[archive_clean.retweets.isnull()]\n",
    "#sum(archive_clean.retweets.isnull())"
   ]
  },
  {
   "cell_type": "markdown",
   "metadata": {},
   "source": [
    "**Issue:** dog categories hide category variable (`archive_df`)\n",
    "\n",
    "**Task:** Melt dog stage columns into single column."
   ]
  },
  {
   "cell_type": "code",
   "execution_count": 45,
   "metadata": {
    "collapsed": false
   },
   "outputs": [],
   "source": [
    "archive_clean = pd.melt(archive_clean,\n",
    "                        id_vars=['tweet_id', 'in_reply_to_status_id', 'in_reply_to_user_id',\n",
    "                                 'timestamp', 'source', 'text', 'retweeted_status_id',\n",
    "                                 'retweeted_status_user_id', 'retweeted_status_timestamp',\n",
    "                                 'expanded_urls', 'rating_numerator', 'rating_denominator',\n",
    "                                 'name', 'retweets', 'favorites'],\n",
    "                        value_name='dog_stage')\n",
    "archive_clean = archive_clean.drop('variable', axis=1)"
   ]
  },
  {
   "cell_type": "markdown",
   "metadata": {},
   "source": [
    "**Test**"
   ]
  },
  {
   "cell_type": "code",
   "execution_count": 46,
   "metadata": {
    "collapsed": false
   },
   "outputs": [
    {
     "data": {
      "text/html": [
       "<div>\n",
       "<table border=\"1\" class=\"dataframe\">\n",
       "  <thead>\n",
       "    <tr style=\"text-align: right;\">\n",
       "      <th></th>\n",
       "      <th>tweet_id</th>\n",
       "      <th>in_reply_to_status_id</th>\n",
       "      <th>in_reply_to_user_id</th>\n",
       "      <th>timestamp</th>\n",
       "      <th>source</th>\n",
       "      <th>text</th>\n",
       "      <th>retweeted_status_id</th>\n",
       "      <th>retweeted_status_user_id</th>\n",
       "      <th>retweeted_status_timestamp</th>\n",
       "      <th>expanded_urls</th>\n",
       "      <th>rating_numerator</th>\n",
       "      <th>rating_denominator</th>\n",
       "      <th>name</th>\n",
       "      <th>retweets</th>\n",
       "      <th>favorites</th>\n",
       "      <th>dog_stage</th>\n",
       "    </tr>\n",
       "  </thead>\n",
       "  <tbody>\n",
       "    <tr>\n",
       "      <th>7919</th>\n",
       "      <td>765669560888528897</td>\n",
       "      <td>NaN</td>\n",
       "      <td>NaN</td>\n",
       "      <td>2016-08-16 22:00:23 +0000</td>\n",
       "      <td>&lt;a href=\"http://twitter.com/download/iphone\" r...</td>\n",
       "      <td>This is Tove. She's a Balsamic Poinsetter. Sur...</td>\n",
       "      <td>NaN</td>\n",
       "      <td>NaN</td>\n",
       "      <td>NaN</td>\n",
       "      <td>https://twitter.com/dog_rates/status/765669560...</td>\n",
       "      <td>12</td>\n",
       "      <td>10</td>\n",
       "      <td>Tove</td>\n",
       "      <td>1397.0</td>\n",
       "      <td>5713.0</td>\n",
       "      <td>None</td>\n",
       "    </tr>\n",
       "    <tr>\n",
       "      <th>4246</th>\n",
       "      <td>674767892831932416</td>\n",
       "      <td>NaN</td>\n",
       "      <td>NaN</td>\n",
       "      <td>2015-12-10 01:49:36 +0000</td>\n",
       "      <td>&lt;a href=\"http://twitter.com/download/iphone\" r...</td>\n",
       "      <td>This pup was carefully tossed to make it look ...</td>\n",
       "      <td>NaN</td>\n",
       "      <td>NaN</td>\n",
       "      <td>NaN</td>\n",
       "      <td>https://twitter.com/dog_rates/status/674767892...</td>\n",
       "      <td>12</td>\n",
       "      <td>10</td>\n",
       "      <td>None</td>\n",
       "      <td>876.0</td>\n",
       "      <td>1964.0</td>\n",
       "      <td>None</td>\n",
       "    </tr>\n",
       "    <tr>\n",
       "      <th>4330</th>\n",
       "      <td>673148804208660480</td>\n",
       "      <td>NaN</td>\n",
       "      <td>NaN</td>\n",
       "      <td>2015-12-05 14:35:56 +0000</td>\n",
       "      <td>&lt;a href=\"http://twitter.com/download/iphone\" r...</td>\n",
       "      <td>This is Fletcher. He's had a ruff night. No mo...</td>\n",
       "      <td>NaN</td>\n",
       "      <td>NaN</td>\n",
       "      <td>NaN</td>\n",
       "      <td>https://twitter.com/dog_rates/status/673148804...</td>\n",
       "      <td>8</td>\n",
       "      <td>10</td>\n",
       "      <td>Fletcher</td>\n",
       "      <td>687.0</td>\n",
       "      <td>1812.0</td>\n",
       "      <td>None</td>\n",
       "    </tr>\n",
       "  </tbody>\n",
       "</table>\n",
       "</div>"
      ],
      "text/plain": [
       "                tweet_id  in_reply_to_status_id  in_reply_to_user_id  \\\n",
       "7919  765669560888528897                    NaN                  NaN   \n",
       "4246  674767892831932416                    NaN                  NaN   \n",
       "4330  673148804208660480                    NaN                  NaN   \n",
       "\n",
       "                      timestamp  \\\n",
       "7919  2016-08-16 22:00:23 +0000   \n",
       "4246  2015-12-10 01:49:36 +0000   \n",
       "4330  2015-12-05 14:35:56 +0000   \n",
       "\n",
       "                                                 source  \\\n",
       "7919  <a href=\"http://twitter.com/download/iphone\" r...   \n",
       "4246  <a href=\"http://twitter.com/download/iphone\" r...   \n",
       "4330  <a href=\"http://twitter.com/download/iphone\" r...   \n",
       "\n",
       "                                                   text  retweeted_status_id  \\\n",
       "7919  This is Tove. She's a Balsamic Poinsetter. Sur...                  NaN   \n",
       "4246  This pup was carefully tossed to make it look ...                  NaN   \n",
       "4330  This is Fletcher. He's had a ruff night. No mo...                  NaN   \n",
       "\n",
       "      retweeted_status_user_id retweeted_status_timestamp  \\\n",
       "7919                       NaN                        NaN   \n",
       "4246                       NaN                        NaN   \n",
       "4330                       NaN                        NaN   \n",
       "\n",
       "                                          expanded_urls  rating_numerator  \\\n",
       "7919  https://twitter.com/dog_rates/status/765669560...                12   \n",
       "4246  https://twitter.com/dog_rates/status/674767892...                12   \n",
       "4330  https://twitter.com/dog_rates/status/673148804...                 8   \n",
       "\n",
       "      rating_denominator      name  retweets  favorites dog_stage  \n",
       "7919                  10      Tove    1397.0     5713.0      None  \n",
       "4246                  10      None     876.0     1964.0      None  \n",
       "4330                  10  Fletcher     687.0     1812.0      None  "
      ]
     },
     "execution_count": 46,
     "metadata": {},
     "output_type": "execute_result"
    }
   ],
   "source": [
    "archive_clean.sample(3)"
   ]
  },
  {
   "cell_type": "code",
   "execution_count": 47,
   "metadata": {
    "collapsed": false,
    "scrolled": false
   },
   "outputs": [
    {
     "data": {
      "text/plain": [
       "394"
      ]
     },
     "execution_count": 47,
     "metadata": {},
     "output_type": "execute_result"
    }
   ],
   "source": [
    "len(archive_clean[archive_clean.dog_stage != 'None'])"
   ]
  },
  {
   "cell_type": "code",
   "execution_count": 48,
   "metadata": {
    "collapsed": false,
    "scrolled": true
   },
   "outputs": [
    {
     "data": {
      "text/plain": [
       "None       9030\n",
       "pupper      257\n",
       "doggo        97\n",
       "puppo        30\n",
       "floofer      10\n",
       "Name: dog_stage, dtype: int64"
      ]
     },
     "execution_count": 48,
     "metadata": {},
     "output_type": "execute_result"
    }
   ],
   "source": [
    "archive_clean.dog_stage.value_counts()"
   ]
  },
  {
   "cell_type": "code",
   "execution_count": 49,
   "metadata": {
    "collapsed": false
   },
   "outputs": [
    {
     "name": "stdout",
     "output_type": "stream",
     "text": [
      "<class 'pandas.core.frame.DataFrame'>\n",
      "RangeIndex: 9424 entries, 0 to 9423\n",
      "Data columns (total 16 columns):\n",
      "tweet_id                      9424 non-null object\n",
      "in_reply_to_status_id         312 non-null float64\n",
      "in_reply_to_user_id           312 non-null float64\n",
      "timestamp                     9424 non-null object\n",
      "source                        9424 non-null object\n",
      "text                          9424 non-null object\n",
      "retweeted_status_id           724 non-null float64\n",
      "retweeted_status_user_id      724 non-null float64\n",
      "retweeted_status_timestamp    724 non-null object\n",
      "expanded_urls                 9188 non-null object\n",
      "rating_numerator              9424 non-null int64\n",
      "rating_denominator            9424 non-null int64\n",
      "name                          9424 non-null object\n",
      "retweets                      9404 non-null float64\n",
      "favorites                     9404 non-null float64\n",
      "dog_stage                     9424 non-null object\n",
      "dtypes: float64(6), int64(2), object(8)\n",
      "memory usage: 1.2+ MB\n"
     ]
    }
   ],
   "source": [
    "archive_clean.info()"
   ]
  },
  {
   "cell_type": "code",
   "execution_count": 50,
   "metadata": {
    "collapsed": false
   },
   "outputs": [],
   "source": [
    "# Keep one of 3 duplicates with 'None'\n",
    "dup_df1 = archive_clean.drop_duplicates(subset=['tweet_id', 'dog_stage']) \n",
    "dup_df1 = archive_clean.drop_duplicates()\n",
    "\n",
    "# Keep rows with dog stage\n",
    "dup_pos = archive_clean.duplicated(subset='tweet_id', keep = False)\n",
    "dup_df2 = archive_clean[dup_pos]\n",
    "dup_df2 = dup_df2[dup_df2.dog_stage != 'None']\n",
    "\n",
    "# Combine\n",
    "dup_df1 = dup_df1.drop_duplicates(subset = 'tweet_id', keep = False)\n",
    "dup_df_merged = dup_df1.append(dup_df2)"
   ]
  },
  {
   "cell_type": "code",
   "execution_count": 51,
   "metadata": {
    "collapsed": false
   },
   "outputs": [
    {
     "name": "stdout",
     "output_type": "stream",
     "text": [
      "<class 'pandas.core.frame.DataFrame'>\n",
      "Int64Index: 2370 entries, 0 to 8151\n",
      "Data columns (total 16 columns):\n",
      "tweet_id                      2370 non-null object\n",
      "in_reply_to_status_id         79 non-null float64\n",
      "in_reply_to_user_id           79 non-null float64\n",
      "timestamp                     2370 non-null object\n",
      "source                        2370 non-null object\n",
      "text                          2370 non-null object\n",
      "retweeted_status_id           183 non-null float64\n",
      "retweeted_status_user_id      183 non-null float64\n",
      "retweeted_status_timestamp    183 non-null object\n",
      "expanded_urls                 2311 non-null object\n",
      "rating_numerator              2370 non-null int64\n",
      "rating_denominator            2370 non-null int64\n",
      "name                          2370 non-null object\n",
      "retweets                      2365 non-null float64\n",
      "favorites                     2365 non-null float64\n",
      "dog_stage                     2370 non-null object\n",
      "dtypes: float64(6), int64(2), object(8)\n",
      "memory usage: 314.8+ KB\n"
     ]
    }
   ],
   "source": [
    "dup_df_merged.info()"
   ]
  },
  {
   "cell_type": "code",
   "execution_count": 54,
   "metadata": {
    "collapsed": false
   },
   "outputs": [
    {
     "data": {
      "text/html": [
       "<div>\n",
       "<table border=\"1\" class=\"dataframe\">\n",
       "  <thead>\n",
       "    <tr style=\"text-align: right;\">\n",
       "      <th></th>\n",
       "      <th>tweet_id</th>\n",
       "      <th>in_reply_to_status_id</th>\n",
       "      <th>in_reply_to_user_id</th>\n",
       "      <th>timestamp</th>\n",
       "      <th>source</th>\n",
       "      <th>text</th>\n",
       "      <th>retweeted_status_id</th>\n",
       "      <th>retweeted_status_user_id</th>\n",
       "      <th>retweeted_status_timestamp</th>\n",
       "      <th>expanded_urls</th>\n",
       "      <th>rating_numerator</th>\n",
       "      <th>rating_denominator</th>\n",
       "      <th>name</th>\n",
       "      <th>retweets</th>\n",
       "      <th>favorites</th>\n",
       "      <th>dog_stage</th>\n",
       "    </tr>\n",
       "  </thead>\n",
       "  <tbody>\n",
       "    <tr>\n",
       "      <th>460</th>\n",
       "      <td>817777686764523521</td>\n",
       "      <td>NaN</td>\n",
       "      <td>NaN</td>\n",
       "      <td>2017-01-07 16:59:28 +0000</td>\n",
       "      <td>&lt;a href=\"http://twitter.com/download/iphone\" r...</td>\n",
       "      <td>This is Dido. She's playing the lead role in \"...</td>\n",
       "      <td>NaN</td>\n",
       "      <td>NaN</td>\n",
       "      <td>NaN</td>\n",
       "      <td>https://twitter.com/dog_rates/status/817777686...</td>\n",
       "      <td>13</td>\n",
       "      <td>10</td>\n",
       "      <td>Dido</td>\n",
       "      <td>3063.0</td>\n",
       "      <td>11829.0</td>\n",
       "      <td>doggo</td>\n",
       "    </tr>\n",
       "    <tr>\n",
       "      <th>5172</th>\n",
       "      <td>817777686764523521</td>\n",
       "      <td>NaN</td>\n",
       "      <td>NaN</td>\n",
       "      <td>2017-01-07 16:59:28 +0000</td>\n",
       "      <td>&lt;a href=\"http://twitter.com/download/iphone\" r...</td>\n",
       "      <td>This is Dido. She's playing the lead role in \"...</td>\n",
       "      <td>NaN</td>\n",
       "      <td>NaN</td>\n",
       "      <td>NaN</td>\n",
       "      <td>https://twitter.com/dog_rates/status/817777686...</td>\n",
       "      <td>13</td>\n",
       "      <td>10</td>\n",
       "      <td>Dido</td>\n",
       "      <td>3063.0</td>\n",
       "      <td>11829.0</td>\n",
       "      <td>pupper</td>\n",
       "    </tr>\n",
       "  </tbody>\n",
       "</table>\n",
       "</div>"
      ],
      "text/plain": [
       "                tweet_id  in_reply_to_status_id  in_reply_to_user_id  \\\n",
       "460   817777686764523521                    NaN                  NaN   \n",
       "5172  817777686764523521                    NaN                  NaN   \n",
       "\n",
       "                      timestamp  \\\n",
       "460   2017-01-07 16:59:28 +0000   \n",
       "5172  2017-01-07 16:59:28 +0000   \n",
       "\n",
       "                                                 source  \\\n",
       "460   <a href=\"http://twitter.com/download/iphone\" r...   \n",
       "5172  <a href=\"http://twitter.com/download/iphone\" r...   \n",
       "\n",
       "                                                   text  retweeted_status_id  \\\n",
       "460   This is Dido. She's playing the lead role in \"...                  NaN   \n",
       "5172  This is Dido. She's playing the lead role in \"...                  NaN   \n",
       "\n",
       "      retweeted_status_user_id retweeted_status_timestamp  \\\n",
       "460                        NaN                        NaN   \n",
       "5172                       NaN                        NaN   \n",
       "\n",
       "                                          expanded_urls  rating_numerator  \\\n",
       "460   https://twitter.com/dog_rates/status/817777686...                13   \n",
       "5172  https://twitter.com/dog_rates/status/817777686...                13   \n",
       "\n",
       "      rating_denominator  name  retweets  favorites dog_stage  \n",
       "460                   10  Dido    3063.0    11829.0     doggo  \n",
       "5172                  10  Dido    3063.0    11829.0    pupper  "
      ]
     },
     "execution_count": 54,
     "metadata": {},
     "output_type": "execute_result"
    }
   ],
   "source": [
    "remaining_dup_df = dup_df_merged[dup_df_merged.duplicated(subset='tweet_id', keep=False)]\n",
    "remaining_dup_df[remaining_dup_df.tweet_id == '817777686764523521']"
   ]
  },
  {
   "cell_type": "markdown",
   "metadata": {},
   "source": [
    "**Issue:** Duplicate tweets from multiple dog stages.\n",
    "\n",
    "**Task:** Multiple stages appear in 14 tweets. Change `dog_stage` to _multiple_, drop duplicates. Remove drop duplicates from `archive_clean` based on `tweet_id`, then append `multiple` rows."
   ]
  },
  {
   "cell_type": "code",
   "execution_count": 70,
   "metadata": {
    "collapsed": false
   },
   "outputs": [
    {
     "name": "stderr",
     "output_type": "stream",
     "text": [
      "C:\\Users\\Nathan\\Anaconda\\envs\\py3\\lib\\site-packages\\pandas\\core\\generic.py:2773: SettingWithCopyWarning: \n",
      "A value is trying to be set on a copy of a slice from a DataFrame.\n",
      "Try using .loc[row_indexer,col_indexer] = value instead\n",
      "\n",
      "See the caveats in the documentation: http://pandas.pydata.org/pandas-docs/stable/indexing.html#indexing-view-versus-copy\n",
      "  self[name] = value\n"
     ]
    },
    {
     "data": {
      "text/html": [
       "<div>\n",
       "<table border=\"1\" class=\"dataframe\">\n",
       "  <thead>\n",
       "    <tr style=\"text-align: right;\">\n",
       "      <th></th>\n",
       "      <th>tweet_id</th>\n",
       "      <th>in_reply_to_status_id</th>\n",
       "      <th>in_reply_to_user_id</th>\n",
       "      <th>timestamp</th>\n",
       "      <th>source</th>\n",
       "      <th>text</th>\n",
       "      <th>retweeted_status_id</th>\n",
       "      <th>retweeted_status_user_id</th>\n",
       "      <th>retweeted_status_timestamp</th>\n",
       "      <th>expanded_urls</th>\n",
       "      <th>rating_numerator</th>\n",
       "      <th>rating_denominator</th>\n",
       "      <th>name</th>\n",
       "      <th>retweets</th>\n",
       "      <th>favorites</th>\n",
       "      <th>dog_stage</th>\n",
       "    </tr>\n",
       "  </thead>\n",
       "  <tbody>\n",
       "    <tr>\n",
       "      <th>460</th>\n",
       "      <td>817777686764523521</td>\n",
       "      <td>NaN</td>\n",
       "      <td>NaN</td>\n",
       "      <td>2017-01-07 16:59:28 +0000</td>\n",
       "      <td>&lt;a href=\"http://twitter.com/download/iphone\" r...</td>\n",
       "      <td>This is Dido. She's playing the lead role in \"...</td>\n",
       "      <td>NaN</td>\n",
       "      <td>NaN</td>\n",
       "      <td>NaN</td>\n",
       "      <td>https://twitter.com/dog_rates/status/817777686...</td>\n",
       "      <td>13</td>\n",
       "      <td>10</td>\n",
       "      <td>Dido</td>\n",
       "      <td>3063.0</td>\n",
       "      <td>11829.0</td>\n",
       "      <td>multiple</td>\n",
       "    </tr>\n",
       "  </tbody>\n",
       "</table>\n",
       "</div>"
      ],
      "text/plain": [
       "               tweet_id  in_reply_to_status_id  in_reply_to_user_id  \\\n",
       "460  817777686764523521                    NaN                  NaN   \n",
       "\n",
       "                     timestamp  \\\n",
       "460  2017-01-07 16:59:28 +0000   \n",
       "\n",
       "                                                source  \\\n",
       "460  <a href=\"http://twitter.com/download/iphone\" r...   \n",
       "\n",
       "                                                  text  retweeted_status_id  \\\n",
       "460  This is Dido. She's playing the lead role in \"...                  NaN   \n",
       "\n",
       "     retweeted_status_user_id retweeted_status_timestamp  \\\n",
       "460                       NaN                        NaN   \n",
       "\n",
       "                                         expanded_urls  rating_numerator  \\\n",
       "460  https://twitter.com/dog_rates/status/817777686...                13   \n",
       "\n",
       "     rating_denominator  name  retweets  favorites dog_stage  \n",
       "460                  10  Dido    3063.0    11829.0  multiple  "
      ]
     },
     "execution_count": 70,
     "metadata": {},
     "output_type": "execute_result"
    }
   ],
   "source": [
    "remaining_dup_df.dog_stage = 'multiple'\n",
    "dup_drops = remaining_dup_df.drop_duplicates()\n",
    "dup_drops[dup_drops.tweet_id == '817777686764523521']\n"
   ]
  },
  {
   "cell_type": "code",
   "execution_count": 72,
   "metadata": {
    "collapsed": false
   },
   "outputs": [
    {
     "name": "stderr",
     "output_type": "stream",
     "text": [
      "C:\\Users\\Nathan\\Anaconda\\envs\\py3\\lib\\site-packages\\ipykernel\\__main__.py:4: SettingWithCopyWarning: \n",
      "A value is trying to be set on a copy of a slice from a DataFrame\n",
      "\n",
      "See the caveats in the documentation: http://pandas.pydata.org/pandas-docs/stable/indexing.html#indexing-view-versus-copy\n"
     ]
    }
   ],
   "source": [
    "duped_ids = set(remaining_dup_df.tweet_id)\n",
    "for idx in dup_df_merged.tweet_id:\n",
    "    if idx in duped_ids:\n",
    "        dup_df_merged.dog_stage[dup_df_merged.tweet_id == idx] = 'multiple'\n",
    "archive_clean = dup_df_merged.drop_duplicates()"
   ]
  },
  {
   "cell_type": "markdown",
   "metadata": {},
   "source": [
    "**Test**"
   ]
  },
  {
   "cell_type": "code",
   "execution_count": 75,
   "metadata": {
    "collapsed": false
   },
   "outputs": [
    {
     "data": {
      "text/plain": [
       "None        1976\n",
       "pupper       245\n",
       "doggo         83\n",
       "puppo         29\n",
       "multiple      14\n",
       "floofer        9\n",
       "Name: dog_stage, dtype: int64"
      ]
     },
     "execution_count": 75,
     "metadata": {},
     "output_type": "execute_result"
    }
   ],
   "source": [
    "archive_clean.dog_stage.value_counts()"
   ]
  },
  {
   "cell_type": "code",
   "execution_count": 76,
   "metadata": {
    "collapsed": false
   },
   "outputs": [
    {
     "name": "stdout",
     "output_type": "stream",
     "text": [
      "<class 'pandas.core.frame.DataFrame'>\n",
      "Int64Index: 2356 entries, 0 to 8151\n",
      "Data columns (total 16 columns):\n",
      "tweet_id                      2356 non-null object\n",
      "in_reply_to_status_id         78 non-null float64\n",
      "in_reply_to_user_id           78 non-null float64\n",
      "timestamp                     2356 non-null object\n",
      "source                        2356 non-null object\n",
      "text                          2356 non-null object\n",
      "retweeted_status_id           181 non-null float64\n",
      "retweeted_status_user_id      181 non-null float64\n",
      "retweeted_status_timestamp    181 non-null object\n",
      "expanded_urls                 2297 non-null object\n",
      "rating_numerator              2356 non-null int64\n",
      "rating_denominator            2356 non-null int64\n",
      "name                          2356 non-null object\n",
      "retweets                      2351 non-null float64\n",
      "favorites                     2351 non-null float64\n",
      "dog_stage                     2356 non-null object\n",
      "dtypes: float64(6), int64(2), object(8)\n",
      "memory usage: 312.9+ KB\n"
     ]
    }
   ],
   "source": [
    "archive_clean.info()"
   ]
  },
  {
   "cell_type": "code",
   "execution_count": null,
   "metadata": {
    "collapsed": true
   },
   "outputs": [],
   "source": []
  }
 ],
 "metadata": {
  "kernelspec": {
   "display_name": "Python 3",
   "language": "python",
   "name": "python3"
  },
  "language_info": {
   "codemirror_mode": {
    "name": "ipython",
    "version": 3
   },
   "file_extension": ".py",
   "mimetype": "text/x-python",
   "name": "python",
   "nbconvert_exporter": "python",
   "pygments_lexer": "ipython3",
   "version": "3.6.0"
  }
 },
 "nbformat": 4,
 "nbformat_minor": 2
}
